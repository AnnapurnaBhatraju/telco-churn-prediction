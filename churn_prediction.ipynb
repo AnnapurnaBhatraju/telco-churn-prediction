{
 "cells": [
  {
   "cell_type": "code",
   "execution_count": null,
   "id": "37ac1b48-00a1-4fc3-9ca8-a0b3d13870d6",
   "metadata": {},
   "outputs": [],
   "source": []
  }
 ],
 "metadata": {
  "kernelspec": {
   "display_name": "",
   "name": ""
  },
  "language_info": {
   "name": ""
  }
 },
 "nbformat": 4,
 "nbformat_minor": 5
}
